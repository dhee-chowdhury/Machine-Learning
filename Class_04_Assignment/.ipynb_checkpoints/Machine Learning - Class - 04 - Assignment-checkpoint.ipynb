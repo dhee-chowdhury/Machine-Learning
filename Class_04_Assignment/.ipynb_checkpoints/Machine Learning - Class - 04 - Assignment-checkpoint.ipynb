{
 "cells": [
  {
   "cell_type": "code",
   "execution_count": 51,
   "id": "7b2c3554",
   "metadata": {},
   "outputs": [],
   "source": [
    "import pandas as pd    #importing pandas to read and to create dataframe\n",
    "import matplotlib.pyplot as plt #importing pyplot to view graph/plot\n",
    "import warnings as wr  #to filter out warnings\n",
    "wr.filterwarnings('ignore') #ignoring the warnings "
   ]
  },
  {
   "cell_type": "code",
   "execution_count": 2,
   "id": "16bcbc5f",
   "metadata": {},
   "outputs": [],
   "source": [
    "df = pd.read_csv(\"Height-Weight Data.csv\") #creating a data frame df by loading the data from csv file"
   ]
  },
  {
   "cell_type": "code",
   "execution_count": 3,
   "id": "4613933f",
   "metadata": {},
   "outputs": [
    {
     "data": {
      "text/html": [
       "<div>\n",
       "<style scoped>\n",
       "    .dataframe tbody tr th:only-of-type {\n",
       "        vertical-align: middle;\n",
       "    }\n",
       "\n",
       "    .dataframe tbody tr th {\n",
       "        vertical-align: top;\n",
       "    }\n",
       "\n",
       "    .dataframe thead th {\n",
       "        text-align: right;\n",
       "    }\n",
       "</style>\n",
       "<table border=\"1\" class=\"dataframe\">\n",
       "  <thead>\n",
       "    <tr style=\"text-align: right;\">\n",
       "      <th></th>\n",
       "      <th>Height</th>\n",
       "      <th>Weight</th>\n",
       "    </tr>\n",
       "  </thead>\n",
       "  <tbody>\n",
       "    <tr>\n",
       "      <th>0</th>\n",
       "      <td>73.847017</td>\n",
       "      <td>241.893563</td>\n",
       "    </tr>\n",
       "    <tr>\n",
       "      <th>1</th>\n",
       "      <td>68.781904</td>\n",
       "      <td>162.310473</td>\n",
       "    </tr>\n",
       "    <tr>\n",
       "      <th>2</th>\n",
       "      <td>74.110105</td>\n",
       "      <td>212.740856</td>\n",
       "    </tr>\n",
       "    <tr>\n",
       "      <th>3</th>\n",
       "      <td>71.730978</td>\n",
       "      <td>220.042470</td>\n",
       "    </tr>\n",
       "    <tr>\n",
       "      <th>4</th>\n",
       "      <td>69.881796</td>\n",
       "      <td>206.349801</td>\n",
       "    </tr>\n",
       "  </tbody>\n",
       "</table>\n",
       "</div>"
      ],
      "text/plain": [
       "      Height      Weight\n",
       "0  73.847017  241.893563\n",
       "1  68.781904  162.310473\n",
       "2  74.110105  212.740856\n",
       "3  71.730978  220.042470\n",
       "4  69.881796  206.349801"
      ]
     },
     "execution_count": 3,
     "metadata": {},
     "output_type": "execute_result"
    }
   ],
   "source": [
    "df.head() #displaying the first five rows"
   ]
  },
  {
   "cell_type": "code",
   "execution_count": 4,
   "id": "03f628f1",
   "metadata": {},
   "outputs": [
    {
     "data": {
      "text/html": [
       "<div>\n",
       "<style scoped>\n",
       "    .dataframe tbody tr th:only-of-type {\n",
       "        vertical-align: middle;\n",
       "    }\n",
       "\n",
       "    .dataframe tbody tr th {\n",
       "        vertical-align: top;\n",
       "    }\n",
       "\n",
       "    .dataframe thead th {\n",
       "        text-align: right;\n",
       "    }\n",
       "</style>\n",
       "<table border=\"1\" class=\"dataframe\">\n",
       "  <thead>\n",
       "    <tr style=\"text-align: right;\">\n",
       "      <th></th>\n",
       "      <th>Height</th>\n",
       "      <th>Weight</th>\n",
       "    </tr>\n",
       "  </thead>\n",
       "  <tbody>\n",
       "    <tr>\n",
       "      <th>3496</th>\n",
       "      <td>69.296830</td>\n",
       "      <td>185.649086</td>\n",
       "    </tr>\n",
       "    <tr>\n",
       "      <th>3497</th>\n",
       "      <td>70.542201</td>\n",
       "      <td>210.198845</td>\n",
       "    </tr>\n",
       "    <tr>\n",
       "      <th>3498</th>\n",
       "      <td>73.912549</td>\n",
       "      <td>202.429960</td>\n",
       "    </tr>\n",
       "    <tr>\n",
       "      <th>3499</th>\n",
       "      <td>67.396021</td>\n",
       "      <td>144.277671</td>\n",
       "    </tr>\n",
       "    <tr>\n",
       "      <th>3500</th>\n",
       "      <td>72.738970</td>\n",
       "      <td>187.222909</td>\n",
       "    </tr>\n",
       "  </tbody>\n",
       "</table>\n",
       "</div>"
      ],
      "text/plain": [
       "         Height      Weight\n",
       "3496  69.296830  185.649086\n",
       "3497  70.542201  210.198845\n",
       "3498  73.912549  202.429960\n",
       "3499  67.396021  144.277671\n",
       "3500  72.738970  187.222909"
      ]
     },
     "execution_count": 4,
     "metadata": {},
     "output_type": "execute_result"
    }
   ],
   "source": [
    "df.tail() #displaying the last five rows"
   ]
  },
  {
   "cell_type": "code",
   "execution_count": 4,
   "id": "ef70c5e7",
   "metadata": {},
   "outputs": [
    {
     "data": {
      "text/plain": [
       "(3501, 2)"
      ]
     },
     "execution_count": 4,
     "metadata": {},
     "output_type": "execute_result"
    }
   ],
   "source": [
    "df.shape #showing the shape of the dataframe; first number is the rows and the second is the column's "
   ]
  },
  {
   "cell_type": "code",
   "execution_count": 5,
   "id": "b694ab90",
   "metadata": {},
   "outputs": [
    {
     "data": {
      "text/plain": [
       "Height    0\n",
       "Weight    0\n",
       "dtype: int64"
      ]
     },
     "execution_count": 5,
     "metadata": {},
     "output_type": "execute_result"
    }
   ],
   "source": [
    "df.isnull().sum() #first isnull will generate if there is any null values and sum function will count them and show them"
   ]
  },
  {
   "cell_type": "code",
   "execution_count": 6,
   "id": "889defc9",
   "metadata": {},
   "outputs": [
    {
     "name": "stdout",
     "output_type": "stream",
     "text": [
      "<class 'pandas.core.frame.DataFrame'>\n",
      "RangeIndex: 3501 entries, 0 to 3500\n",
      "Data columns (total 2 columns):\n",
      " #   Column  Non-Null Count  Dtype  \n",
      "---  ------  --------------  -----  \n",
      " 0   Height  3501 non-null   float64\n",
      " 1   Weight  3501 non-null   float64\n",
      "dtypes: float64(2)\n",
      "memory usage: 54.8 KB\n"
     ]
    }
   ],
   "source": [
    "df.info() #an overall info on the dataframe displaying rows, columns, null-values, datatypes etc"
   ]
  },
  {
   "cell_type": "code",
   "execution_count": 10,
   "id": "0fdc37ec",
   "metadata": {},
   "outputs": [
    {
     "data": {
      "text/plain": [
       "<matplotlib.collections.PathCollection at 0x130f687bf10>"
      ]
     },
     "execution_count": 10,
     "metadata": {},
     "output_type": "execute_result"
    },
    {
     "data": {
      "image/png": "[encoded data removed]",
      "text/plain": [
       "<Figure size 640x480 with 1 Axes>"
      ]
     },
     "metadata": {},
     "output_type": "display_data"
    }
   ],
   "source": [
    "plt.scatter(df.Height, df.Weight) #it plot all the points df.Height as x df.Weight as corresponding y in x-y coordinates"
   ]
  },
  {
   "cell_type": "code",
   "execution_count": 38,
   "id": "669f0f65",
   "metadata": {},
   "outputs": [
    {
     "data": {
      "image/png": "[encoded data removed]",
      "text/plain": [
       "<Figure size 640x480 with 1 Axes>"
      ]
     },
     "metadata": {},
     "output_type": "display_data"
    }
   ],
   "source": [
    "plt.scatter(df.Height, df.Weight, color='teal') #displaying scatter plot and also the colours of the points are differernt\n",
    "plt.xlabel(\"Height (in cm)\") #what is there in x axis\n",
    "plt.ylabel(\"Weight (in Pound(s))\") # what is there in y axis\n",
    "plt.title(\"Height Vs. Weight scatter plot\") #title of the scatter plot\n",
    "plt.savefig(\"scatter_plot.png\") # it will save a png of the scatter plot in the current working directory"
   ]
  },
  {
   "cell_type": "code",
   "execution_count": 15,
   "id": "7fb3f549",
   "metadata": {},
   "outputs": [
    {
     "data": {
      "text/plain": [
       "69.02441087268797"
      ]
     },
     "execution_count": 15,
     "metadata": {},
     "output_type": "execute_result"
    }
   ],
   "source": [
    "df.Height.mean() # mean value of all the rows in height column"
   ]
  },
  {
   "cell_type": "code",
   "execution_count": 16,
   "id": "53e10980",
   "metadata": {},
   "outputs": [
    {
     "data": {
      "text/plain": [
       "186.89125797946284"
      ]
     },
     "execution_count": 16,
     "metadata": {},
     "output_type": "execute_result"
    }
   ],
   "source": [
    "df.Weight.mean() #mean value of all the rows in weight column"
   ]
  },
  {
   "cell_type": "code",
   "execution_count": 17,
   "id": "1bb8959e",
   "metadata": {},
   "outputs": [],
   "source": [
    "x = df[['Height']] # assigning height from dataframe to x\n",
    "y = df[['Weight']] # assigning weight from dateframe to y"
   ]
  },
  {
   "cell_type": "code",
   "execution_count": 18,
   "id": "9cd9dba6",
   "metadata": {},
   "outputs": [
    {
     "data": {
      "text/html": [
       "<div>\n",
       "<style scoped>\n",
       "    .dataframe tbody tr th:only-of-type {\n",
       "        vertical-align: middle;\n",
       "    }\n",
       "\n",
       "    .dataframe tbody tr th {\n",
       "        vertical-align: top;\n",
       "    }\n",
       "\n",
       "    .dataframe thead th {\n",
       "        text-align: right;\n",
       "    }\n",
       "</style>\n",
       "<table border=\"1\" class=\"dataframe\">\n",
       "  <thead>\n",
       "    <tr style=\"text-align: right;\">\n",
       "      <th></th>\n",
       "      <th>Height</th>\n",
       "    </tr>\n",
       "  </thead>\n",
       "  <tbody>\n",
       "    <tr>\n",
       "      <th>0</th>\n",
       "      <td>73.847017</td>\n",
       "    </tr>\n",
       "    <tr>\n",
       "      <th>1</th>\n",
       "      <td>68.781904</td>\n",
       "    </tr>\n",
       "    <tr>\n",
       "      <th>2</th>\n",
       "      <td>74.110105</td>\n",
       "    </tr>\n",
       "    <tr>\n",
       "      <th>3</th>\n",
       "      <td>71.730978</td>\n",
       "    </tr>\n",
       "    <tr>\n",
       "      <th>4</th>\n",
       "      <td>69.881796</td>\n",
       "    </tr>\n",
       "  </tbody>\n",
       "</table>\n",
       "</div>"
      ],
      "text/plain": [
       "      Height\n",
       "0  73.847017\n",
       "1  68.781904\n",
       "2  74.110105\n",
       "3  71.730978\n",
       "4  69.881796"
      ]
     },
     "execution_count": 18,
     "metadata": {},
     "output_type": "execute_result"
    }
   ],
   "source": [
    "x.head() #displaying the first five rows with column name"
   ]
  },
  {
   "cell_type": "code",
   "execution_count": 19,
   "id": "fde5607d",
   "metadata": {},
   "outputs": [
    {
     "data": {
      "text/html": [
       "<div>\n",
       "<style scoped>\n",
       "    .dataframe tbody tr th:only-of-type {\n",
       "        vertical-align: middle;\n",
       "    }\n",
       "\n",
       "    .dataframe tbody tr th {\n",
       "        vertical-align: top;\n",
       "    }\n",
       "\n",
       "    .dataframe thead th {\n",
       "        text-align: right;\n",
       "    }\n",
       "</style>\n",
       "<table border=\"1\" class=\"dataframe\">\n",
       "  <thead>\n",
       "    <tr style=\"text-align: right;\">\n",
       "      <th></th>\n",
       "      <th>Weight</th>\n",
       "    </tr>\n",
       "  </thead>\n",
       "  <tbody>\n",
       "    <tr>\n",
       "      <th>0</th>\n",
       "      <td>241.893563</td>\n",
       "    </tr>\n",
       "    <tr>\n",
       "      <th>1</th>\n",
       "      <td>162.310473</td>\n",
       "    </tr>\n",
       "    <tr>\n",
       "      <th>2</th>\n",
       "      <td>212.740856</td>\n",
       "    </tr>\n",
       "    <tr>\n",
       "      <th>3</th>\n",
       "      <td>220.042470</td>\n",
       "    </tr>\n",
       "    <tr>\n",
       "      <th>4</th>\n",
       "      <td>206.349801</td>\n",
       "    </tr>\n",
       "  </tbody>\n",
       "</table>\n",
       "</div>"
      ],
      "text/plain": [
       "       Weight\n",
       "0  241.893563\n",
       "1  162.310473\n",
       "2  212.740856\n",
       "3  220.042470\n",
       "4  206.349801"
      ]
     },
     "execution_count": 19,
     "metadata": {},
     "output_type": "execute_result"
    }
   ],
   "source": [
    "y.head() #displaying the first five rows of x dateframe with column name"
   ]
  },
  {
   "cell_type": "code",
   "execution_count": 20,
   "id": "bf327cd7",
   "metadata": {},
   "outputs": [],
   "source": [
    "from sklearn.linear_model import LinearRegression #importing the library to traing and to predict outcome for any new input"
   ]
  },
  {
   "cell_type": "code",
   "execution_count": 21,
   "id": "52004218",
   "metadata": {},
   "outputs": [],
   "source": [
    "reg = LinearRegression() #creating and assigning a linear regressiong object"
   ]
  },
  {
   "cell_type": "code",
   "execution_count": 23,
   "id": "0000c5b1",
   "metadata": {},
   "outputs": [
    {
     "data": {
      "text/plain": [
       "LinearRegression()"
      ]
     },
     "execution_count": 23,
     "metadata": {},
     "output_type": "execute_result"
    }
   ],
   "source": [
    "reg.fit(x,y) # training the linear regression model "
   ]
  },
  {
   "cell_type": "code",
   "execution_count": 25,
   "id": "ea7ee970",
   "metadata": {},
   "outputs": [
    {
     "data": {
      "text/plain": [
       "array([[5.95843786]])"
      ]
     },
     "execution_count": 25,
     "metadata": {},
     "output_type": "execute_result"
    }
   ],
   "source": [
    "reg.coef_ #this is the value of m(slope) from the equation of a straight line y = m*x + c"
   ]
  },
  {
   "cell_type": "code",
   "execution_count": 27,
   "id": "34c9f4ef",
   "metadata": {},
   "outputs": [
    {
     "data": {
      "text/plain": [
       "array([-224.38640537])"
      ]
     },
     "execution_count": 27,
     "metadata": {},
     "output_type": "execute_result"
    }
   ],
   "source": [
    "reg.intercept_ #this is the value of (c) from the equation of a straight line y = m*x + c"
   ]
  },
  {
   "cell_type": "code",
   "execution_count": 52,
   "id": "b7f20f3a",
   "metadata": {},
   "outputs": [
    {
     "data": {
      "text/plain": [
       "array([[217.19405044]])"
      ]
     },
     "execution_count": 52,
     "metadata": {},
     "output_type": "execute_result"
    }
   ],
   "source": [
    "reg.predict([[74.110105]]) #predicting an outcome from a value that is completely new"
   ]
  },
  {
   "cell_type": "code",
   "execution_count": 16,
   "id": "16153136",
   "metadata": {},
   "outputs": [
    {
     "data": {
      "text/plain": [
       "-4.453194440000004"
      ]
     },
     "execution_count": 16,
     "metadata": {},
     "output_type": "execute_result"
    }
   ],
   "source": [
    "212.740856 - 217.19405044 #error "
   ]
  },
  {
   "cell_type": "code",
   "execution_count": 28,
   "id": "2c210b5d",
   "metadata": {},
   "outputs": [
    {
     "data": {
      "text/plain": [
       "array([[217.19405044]])"
      ]
     },
     "execution_count": 28,
     "metadata": {},
     "output_type": "execute_result"
    }
   ],
   "source": [
    "# y = m*x + c\n",
    "result = ((reg.coef_) * 74.110105) + reg.intercept_ #cheking the value with the equation y = m*x +c\n",
    "result"
   ]
  },
  {
   "cell_type": "code",
   "execution_count": 29,
   "id": "27bbcf50",
   "metadata": {},
   "outputs": [
    {
     "data": {
      "text/plain": [
       "array([[215.62645706],\n",
       "       [185.44629614],\n",
       "       [217.19405276],\n",
       "       ...,\n",
       "       [216.01692618],\n",
       "       [177.18859679],\n",
       "       [209.02422774]])"
      ]
     },
     "execution_count": 29,
     "metadata": {},
     "output_type": "execute_result"
    }
   ],
   "source": [
    "reg.predict(x) #predicting the new values for weight with x as input"
   ]
  },
  {
   "cell_type": "code",
   "execution_count": 39,
   "id": "83a344a7",
   "metadata": {},
   "outputs": [],
   "source": [
    "df['Predicted_Weight'] = reg.predict(x) #creating a new column of predicted weight for all the corressponding values of x a"
   ]
  },
  {
   "cell_type": "code",
   "execution_count": 40,
   "id": "152ed97e",
   "metadata": {},
   "outputs": [
    {
     "data": {
      "text/html": [
       "<div>\n",
       "<style scoped>\n",
       "    .dataframe tbody tr th:only-of-type {\n",
       "        vertical-align: middle;\n",
       "    }\n",
       "\n",
       "    .dataframe tbody tr th {\n",
       "        vertical-align: top;\n",
       "    }\n",
       "\n",
       "    .dataframe thead th {\n",
       "        text-align: right;\n",
       "    }\n",
       "</style>\n",
       "<table border=\"1\" class=\"dataframe\">\n",
       "  <thead>\n",
       "    <tr style=\"text-align: right;\">\n",
       "      <th></th>\n",
       "      <th>Height</th>\n",
       "      <th>Weight</th>\n",
       "      <th>Predicted_Weight</th>\n",
       "    </tr>\n",
       "  </thead>\n",
       "  <tbody>\n",
       "    <tr>\n",
       "      <th>0</th>\n",
       "      <td>73.847017</td>\n",
       "      <td>241.893563</td>\n",
       "      <td>215.626457</td>\n",
       "    </tr>\n",
       "    <tr>\n",
       "      <th>1</th>\n",
       "      <td>68.781904</td>\n",
       "      <td>162.310473</td>\n",
       "      <td>185.446296</td>\n",
       "    </tr>\n",
       "    <tr>\n",
       "      <th>2</th>\n",
       "      <td>74.110105</td>\n",
       "      <td>212.740856</td>\n",
       "      <td>217.194053</td>\n",
       "    </tr>\n",
       "    <tr>\n",
       "      <th>3</th>\n",
       "      <td>71.730978</td>\n",
       "      <td>220.042470</td>\n",
       "      <td>203.018172</td>\n",
       "    </tr>\n",
       "    <tr>\n",
       "      <th>4</th>\n",
       "      <td>69.881796</td>\n",
       "      <td>206.349801</td>\n",
       "      <td>191.999933</td>\n",
       "    </tr>\n",
       "  </tbody>\n",
       "</table>\n",
       "</div>"
      ],
      "text/plain": [
       "      Height      Weight  Predicted_Weight\n",
       "0  73.847017  241.893563        215.626457\n",
       "1  68.781904  162.310473        185.446296\n",
       "2  74.110105  212.740856        217.194053\n",
       "3  71.730978  220.042470        203.018172\n",
       "4  69.881796  206.349801        191.999933"
      ]
     },
     "execution_count": 40,
     "metadata": {},
     "output_type": "execute_result"
    }
   ],
   "source": [
    "df.head() #displaying first five rows"
   ]
  },
  {
   "cell_type": "code",
   "execution_count": 41,
   "id": "fb6e7908",
   "metadata": {},
   "outputs": [
    {
     "data": {
      "text/plain": [
       "[<matplotlib.lines.Line2D at 0x130fa3313d0>]"
      ]
     },
     "execution_count": 41,
     "metadata": {},
     "output_type": "execute_result"
    },
    {
     "data": {
      "image/png": "[encoded data removed]",
      "text/plain": [
       "<Figure size 640x480 with 1 Axes>"
      ]
     },
     "metadata": {},
     "output_type": "display_data"
    }
   ],
   "source": [
    "plt.plot(df.Height, df.Predicted_Weight) # plotting a line connecting all the scatter plot of height and predicted_weight "
   ]
  },
  {
   "cell_type": "code",
   "execution_count": 46,
   "id": "2d85e137",
   "metadata": {},
   "outputs": [
    {
     "data": {
      "text/plain": [
       "Text(0.5, 1.0, 'Height Vs. Weight(showing best fit line)')"
      ]
     },
     "execution_count": 46,
     "metadata": {},
     "output_type": "execute_result"
    },
    {
     "data": {
      "image/png": "[encoded data removed]",
      "text/plain": [
       "<Figure size 640x480 with 1 Axes>"
      ]
     },
     "metadata": {},
     "output_type": "display_data"
    }
   ],
   "source": [
    "plt.plot(df.Height, df.Predicted_Weight, color='cyan') #displaying the best fit \n",
    "plt.scatter(df.Height, df.Weight, color = 'teal') #scatter plot of height and weight\n",
    "plt.xlabel(\"Height (in cm)\")\n",
    "plt.ylabel(\"Weight (in Pound(s))\")\n",
    "plt.title(\"Height Vs. Weight(showing best fit line)\")"
   ]
  },
  {
   "cell_type": "code",
   "execution_count": 47,
   "id": "1d82a640",
   "metadata": {},
   "outputs": [
    {
     "data": {
      "text/plain": [
       "0.7323584758139253"
      ]
     },
     "execution_count": 47,
     "metadata": {},
     "output_type": "execute_result"
    }
   ],
   "source": [
    "reg.score(x,y) #checking the accuracy of training the model"
   ]
  },
  {
   "cell_type": "code",
   "execution_count": 48,
   "id": "99dc3afb",
   "metadata": {},
   "outputs": [],
   "source": [
    "from sklearn.metrics import mean_squared_error, mean_absolute_error #importing these to check errors"
   ]
  },
  {
   "cell_type": "code",
   "execution_count": 49,
   "id": "96a024f9",
   "metadata": {},
   "outputs": [
    {
     "data": {
      "text/plain": [
       "105.99179779708444"
      ]
     },
     "execution_count": 49,
     "metadata": {},
     "output_type": "execute_result"
    }
   ],
   "source": [
    "mean_squared_error(y, df.Predicted_Weight) # checking the mean squared error"
   ]
  },
  {
   "cell_type": "code",
   "execution_count": 50,
   "id": "01be26c6",
   "metadata": {},
   "outputs": [
    {
     "data": {
      "text/plain": [
       "8.070234283451889"
      ]
     },
     "execution_count": 50,
     "metadata": {},
     "output_type": "execute_result"
    }
   ],
   "source": [
    "mean_absolute_error(y, df.Predicted_Weight) #checking the mean absolute error"
   ]
  },
  {
   "cell_type": "code",
   "execution_count": null,
   "id": "054c8907",
   "metadata": {},
   "outputs": [],
   "source": []
  }
 ],
 "metadata": {
  "kernelspec": {
   "display_name": "Python 3 (ipykernel)",
   "language": "python",
   "name": "python3"
  },
  "language_info": {
   "codemirror_mode": {
    "name": "ipython",
    "version": 3
   },
   "file_extension": ".py",
   "mimetype": "text/x-python",
   "name": "python",
   "nbconvert_exporter": "python",
   "pygments_lexer": "ipython3",
   "version": "3.9.13"
  }
 },
 "nbformat": 4,
 "nbformat_minor": 5
}
